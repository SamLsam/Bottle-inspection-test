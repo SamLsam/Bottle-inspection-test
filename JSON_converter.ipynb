{
 "cells": [
  {
   "cell_type": "code",
   "execution_count": 1,
   "id": "dc183468-34e6-4d96-bfa0-71ce9cd5f5d9",
   "metadata": {},
   "outputs": [],
   "source": [
    "import json\n",
    "#import yaml # попозже отдельно\n",
    "import os"
   ]
  },
  {
   "cell_type": "code",
   "execution_count": 2,
   "id": "b00d2f16-ae80-421c-946d-aec154224971",
   "metadata": {},
   "outputs": [],
   "source": [
    "def convert(x0, y0, x1, y1, width, height):\n",
    "    # class x_center y_center width height\n",
    "    x_center = (x0+x1)*((1./width)/2)\n",
    "    y_center = (y0+y1)*((1./height)/2)\n",
    "    rectangle_width = abs(x0-x1)*(1./width)\n",
    "    rectangle_height = abs(y0-y1)*(1./height)\n",
    "    return(x_center, y_center, rectangle_width, rectangle_height)"
   ]
  },
  {
   "cell_type": "code",
   "execution_count": 3,
   "id": "8f0394da-7dca-4294-8a03-3a443a4a469d",
   "metadata": {},
   "outputs": [],
   "source": [
    "a = convert(301.68253968253964, 753.5555555555555, 145.33333333333331, 171.8095238095238, 512, 768)"
   ]
  },
  {
   "cell_type": "code",
   "execution_count": 4,
   "id": "b17d459e-6ac7-4848-b700-2293912dbfa0",
   "metadata": {},
   "outputs": [
    {
     "data": {
      "text/plain": [
       "(0.43653893849206343,\n",
       " 0.6024512235449735,\n",
       " 0.3053695436507936,\n",
       " 0.7574818121693122)"
      ]
     },
     "execution_count": 4,
     "metadata": {},
     "output_type": "execute_result"
    }
   ],
   "source": [
    "a"
   ]
  },
  {
   "cell_type": "code",
   "execution_count": 5,
   "id": "7e1e71f1-995f-437f-ad4f-43c8c95bbc95",
   "metadata": {},
   "outputs": [],
   "source": [
    "def labelme_json2yolov5_txt(dir):\n",
    "    dataset_labels = dict()\n",
    "    \n",
    "    for filename in [file for file in os.listdir(dir) if file.endswith('.json')]:\n",
    "        with open(os.path.join(dir, filename), \"r\") as file:\n",
    "            data = json.load(file)\n",
    "        name, ext = filename.split(\".\")\n",
    "        \n",
    "        with open(f\"{os.path.join(dir, name)}.txt\", \"w\") as txt_file:\n",
    "            for info in data[\"shapes\"]:\n",
    "                new_coords = convert(*[item for sublist in info[\"points\"] for item in sublist], width=data['imageWidth'], height=data['imageHeight'])\n",
    "                rectangle_object = f\"{dataset_labels.setdefault(info['label'], len(dataset_labels))} {new_coords[0]} {new_coords[1]} {new_coords[2]} {new_coords[3]}\"\n",
    "                print(rectangle_object, file=txt_file)\n",
    "                    \n",
    "    print(dataset_labels.items())"
   ]
  },
  {
   "cell_type": "code",
   "execution_count": 7,
   "id": "36e42b76-a14b-4333-ab0c-55f14dd06c0f",
   "metadata": {
    "scrolled": true,
    "tags": []
   },
   "outputs": [
    {
     "name": "stdout",
     "output_type": "stream",
     "text": [
      "dict_items([('bottle', 0), ('bubble', 1), ('inclusion', 2), ('seam', 3), ('filament', 4)])\n"
     ]
    }
   ],
   "source": [
    "labelme_json2yolov5_txt(\"images_v2/\")"
   ]
  },
  {
   "cell_type": "code",
   "execution_count": null,
   "id": "fa450703-a75b-4bb6-81e6-232f9e4dc9ed",
   "metadata": {},
   "outputs": [],
   "source": []
  }
 ],
 "metadata": {
  "kernelspec": {
   "display_name": "Python 3 (ipykernel)",
   "language": "python",
   "name": "python3"
  },
  "language_info": {
   "codemirror_mode": {
    "name": "ipython",
    "version": 3
   },
   "file_extension": ".py",
   "mimetype": "text/x-python",
   "name": "python",
   "nbconvert_exporter": "python",
   "pygments_lexer": "ipython3",
   "version": "3.9.7"
  }
 },
 "nbformat": 4,
 "nbformat_minor": 5
}
